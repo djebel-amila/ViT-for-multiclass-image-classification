{
 "cells": [
  {
   "cell_type": "markdown",
   "metadata": {},
   "source": [
    "This Python script leverages openCV (cv2) and numpy to extract the frames of a given video file at a desired framerate (10 fps by default) and saves them (with frame numbering) in a new folder as jpg images, keeping their native resolution. <br>\n",
    "requires python 3, opencv, numpy >= 1.21.3. <br>\n",
    "use: In terminal, run program followed by the path to video (filename), i.e.: <br>\n",
    "python opencv_frame_extraction.py myvideo.mp4"
   ]
  },
  {
   "cell_type": "code",
   "execution_count": 1,
   "metadata": {},
   "outputs": [],
   "source": [
    "from datetime import timedelta\n",
    "import cv2\n",
    "import numpy as np\n",
    "import os\n",
    "import math"
   ]
  },
  {
   "cell_type": "markdown",
   "metadata": {},
   "source": [
    "i.e if video of duration 30 seconds, saves 10 frame per second = 300 frames saved in total"
   ]
  },
  {
   "cell_type": "code",
   "execution_count": 2,
   "metadata": {},
   "outputs": [],
   "source": [
    "SAVING_FRAMES_PER_SECOND = 10.0"
   ]
  },
  {
   "cell_type": "code",
   "execution_count": 3,
   "metadata": {},
   "outputs": [],
   "source": [
    "def get_saving_frames_durations(cap, saving_fps):\n",
    "    \"\"\"A function that returns the list of durations where to save the frames\"\"\"\n",
    "    s = []\n",
    "    # get the clip duration by dividing number of frames by the number of frames per second\n",
    "    clip_duration = cap.get(cv2.CAP_PROP_FRAME_COUNT) / cap.get(cv2.CAP_PROP_FPS)\n",
    "    # use np.arange() to make floating-point steps\n",
    "    print(\"current frames in video:\", math.floor(cap.get(cv2.CAP_PROP_FRAME_COUNT)))\n",
    "    print(\"duration of the video in seconds:\", clip_duration)\n",
    "    print(\"extracting frames:\", saving_fps, \"FPS\")\n",
    "    frame_count_prediction = saving_fps * clip_duration\n",
    "    print(\"total frames expected:\", math.floor(frame_count_prediction-1))\n",
    "    for i in np.arange(0, clip_duration, 1 / saving_fps):\n",
    "        s.append(i)\n",
    "    return s\n",
    "    print(s)"
   ]
  },
  {
   "cell_type": "code",
   "execution_count": 17,
   "metadata": {},
   "outputs": [],
   "source": [
    "def main(video_file):\n",
    "    filename, _ = os.path.splitext(video_file)\n",
    "    #filename += \"-frames\"\n",
    "    newdir = filename + \"-frames\"\n",
    "    folder = newdir.split(\"/\")\n",
    "    # if there isn’t already one, create a folder named after filename + \"-frames\"\n",
    "    if not os.path.isdir(folder[len(folder)-1]):\n",
    "        os.mkdir(folder[len(folder)-1])\n",
    "    # read the video file\n",
    "    cap = cv2.VideoCapture(video_file)\n",
    "    # get the FPS of the video\n",
    "    fps = cap.get(cv2.CAP_PROP_FPS)\n",
    "    print(\"source video fps:\", fps, \"FPS\")\n",
    "    # if the SAVING_FRAMES_PER_SECOND is above video FPS, then set it to FPS (as maximum)\n",
    "    saving_frames_per_second = min(fps, SAVING_FRAMES_PER_SECOND)\n",
    "    # get the list of duration spots to save\n",
    "    saving_frames_durations = get_saving_frames_durations(cap, saving_frames_per_second)\n",
    "    # start the loop\n",
    "    count = 0\n",
    "    index = 0\n",
    "    while True:\n",
    "        is_read, frame = cap.read()\n",
    "        if not is_read:\n",
    "            # break out of the loop if there are no frames to read\n",
    "            break\n",
    "        # get the duration by dividing the frame count by the FPS\n",
    "        frame_duration = count / fps\n",
    "        try:\n",
    "            # get the earliest duration to save\n",
    "            closest_duration = saving_frames_durations[0]\n",
    "        except IndexError:\n",
    "            # the list is empty, all duration frames were saved\n",
    "            break\n",
    "        \t\n",
    "        if frame_duration >= closest_duration:\n",
    "            # if closest duration is less than or equals the frame duration, \n",
    "            # then save the frame\n",
    "            #frame_duration_formatted = format_timedelta(timedelta(seconds=frame_duration))\n",
    "#            cv2.imwrite(os.path.join(filename, str(video_file) + \"-\" + str(index) + \".jpg\"), frame)\n",
    "            videoname = filename.split(\"/\")\n",
    "            videoname = videoname[len(videoname)-1]\n",
    "            newfile = os.path.join(folder[len(folder)-1], videoname + \"-\" + str(index) + \".jpg\")\n",
    "            cv2.imwrite(newfile, frame) \n",
    "            index += 1\n",
    "\n",
    "            # drop the duration spot from the list, since this duration spot is already saved\n",
    "            try:\n",
    "                saving_frames_durations.pop(0)\n",
    "            except IndexError:\n",
    "                pass\n",
    "        # increment the frame count\n",
    "        count += 1"
   ]
  },
  {
   "cell_type": "code",
   "execution_count": 18,
   "metadata": {},
   "outputs": [
    {
     "name": "stdout",
     "output_type": "stream",
     "text": [
      "enter path to video:\n",
      "http://commondatastorage.googleapis.com/gtv-videos-bucket/sample/ForBiggerBlazes.mp4\n",
      "source video fps: 23.976023976023978 FPS\n",
      "current frames in video: 360\n",
      "duration of the video in seconds: 15.014999999999999\n",
      "extracting frames: 10.0 FPS\n",
      "total frames expected: 149\n"
     ]
    }
   ],
   "source": [
    "if __name__ == \"__main__\":\n",
    "    import sys\n",
    "    print(\"enter path to video:\")\n",
    "    video_file = str(input())\n",
    "#ie. \"http://commondatastorage.googleapis.com/gtv-videos-bucket/sample/ForBiggerBlazes.mp4\"\n",
    "\n",
    "#video_file\n",
    "    main(video_file)"
   ]
  },
  {
   "cell_type": "code",
   "execution_count": null,
   "metadata": {},
   "outputs": [],
   "source": []
  },
  {
   "cell_type": "code",
   "execution_count": null,
   "metadata": {},
   "outputs": [],
   "source": []
  }
 ],
 "metadata": {
  "kernelspec": {
   "display_name": "Python 3 (ipykernel)",
   "language": "python",
   "name": "python3"
  },
  "language_info": {
   "codemirror_mode": {
    "name": "ipython",
    "version": 3
   },
   "file_extension": ".py",
   "mimetype": "text/x-python",
   "name": "python",
   "nbconvert_exporter": "python",
   "pygments_lexer": "ipython3",
   "version": "3.7.11"
  }
 },
 "nbformat": 4,
 "nbformat_minor": 2
}
