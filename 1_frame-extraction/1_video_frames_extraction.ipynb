{
  "cells": [
    {
      "cell_type": "markdown",
      "metadata": {
        "id": "pdcMxVGEA9Cd"
      },
      "source": [
        "# EXTRACTING FRAMES FROM A VIDEO FILE\n",
        "---\n",
        "\n",
        "This notebook lets you extract the frames of a given video file at the desired framerate and save them with numbered filenames as `.jpg` files in a new directory, keeping their native resolution."
      ]
    },
    {
      "cell_type": "markdown",
      "source": [
        "First, let’s import the required librairies (openCV, numpy, os, math, datetime…)\n",
        "> *(If you’re executing this notebook locally, you should install those with pip)*"
      ],
      "metadata": {
        "id": "Q6g0pG3Hmzvn"
      }
    },
    {
      "cell_type": "code",
      "execution_count": 6,
      "metadata": {
        "id": "5WMEawzyCEyG"
      },
      "outputs": [],
      "source": [
        "import cv2\n",
        "import numpy as np\n",
        "import os\n",
        "import math\n",
        "#from datetime import timedelta\n",
        "import datetime"
      ]
    },
    {
      "cell_type": "markdown",
      "metadata": {
        "id": "NlArTG8KChJf"
      },
      "source": [
        "Then, specify the path to the video file you’d like to extract the frames from.  "
      ]
    },
    {
      "cell_type": "code",
      "source": [
        "# enter file path to video (remote or local)\n",
        "print(\"> Enter path to file\")\n",
        "video_file = str(input())\n",
        "#ie. \"http://commondatastorage.googleapis.com/gtv-videos-bucket/sample/ForBiggerBlazes.mp4\"\n",
        "\n",
        "# get the video frame rate\n",
        "cap = cv2.VideoCapture(video_file)\n",
        "fps = cap.get(cv2.CAP_PROP_FPS)\n",
        "frames = int(cap.get(cv2.CAP_PROP_FRAME_COUNT))\n",
        "# get the video duration (by dividing the total amount of frames by the video frame rate)\n",
        "clip_duration = str(datetime.timedelta(seconds=int(frames/fps)))\n",
        "\n",
        "if fps!=0:\n",
        "  print(\"> This video contains\", frames,\"frames, sampled at\", fps,\"fps, for a total length of\", clip_duration)\n",
        "else:\n",
        "  print(\"> No valid video found at this path\")"
      ],
      "metadata": {
        "id": "zbr6Dng1omNT",
        "outputId": "0bed6c1d-ac2f-465b-ec5e-a53a8fff2403",
        "colab": {
          "base_uri": "https://localhost:8080/"
        }
      },
      "execution_count": 11,
      "outputs": [
        {
          "output_type": "stream",
          "name": "stdout",
          "text": [
            "> Enter path to file\n",
            "http://commondatastorage.googleapis.com/gtv-videos-bucket/sample/ForBiggerBlazes.mp4http://commondatastorage.googleapis.com/gtv-videos-bucket/sample/ForBiggerBlazes.mp4\n",
            "> This video contains 360 frames, sampled at 23.976023976023978 fps, for a total length of 0:00:15 .\n"
          ]
        }
      ]
    },
    {
      "cell_type": "code",
      "execution_count": 20,
      "metadata": {
        "id": "L1532RVbJgQV",
        "colab": {
          "base_uri": "https://localhost:8080/"
        },
        "outputId": "83e0f9ec-1ace-497a-d7de-91fad4619a65"
      },
      "outputs": [
        {
          "output_type": "stream",
          "name": "stdout",
          "text": [
            "> Enter the frame rate at which you'd like to extract\n",
            "2.5\n",
            "> At 2.5 FPS, 37 frames will be extracted in total.\n"
          ]
        }
      ],
      "source": [
        "print(\"> Enter the frame rate at which you'd like to extract\")\n",
        "SAVING_FRAMES_PER_SECOND = float(input())\n",
        "if SAVING_FRAMES_PER_SECOND<=fps:\n",
        "  print(\"> At\", SAVING_FRAMES_PER_SECOND, \"FPS,\", int(SAVING_FRAMES_PER_SECOND * (frames/fps)), \"frames will be extracted in total.\")\n",
        "else:\n",
        "  saving_frames_per_second = min(fps, SAVING_FRAMES_PER_SECOND)\n",
        "  print(\"> /!\\ The frame rate cannot be higher than the video's current rate. FPS set at\", saving_frames_per_second)\n",
        "# ie. 10"
      ]
    },
    {
      "cell_type": "code",
      "execution_count": null,
      "metadata": {
        "id": "DF6iR_0BAdmK"
      },
      "outputs": [],
      "source": []
    }
  ],
  "metadata": {
    "accelerator": "GPU",
    "colab": {
      "provenance": []
    },
    "kernelspec": {
      "display_name": "Python 3 (ipykernel)",
      "language": "python",
      "name": "python3"
    },
    "language_info": {
      "codemirror_mode": {
        "name": "ipython",
        "version": 3
      },
      "file_extension": ".py",
      "mimetype": "text/x-python",
      "name": "python",
      "nbconvert_exporter": "python",
      "pygments_lexer": "ipython3",
      "version": "3.10.8"
    }
  },
  "nbformat": 4,
  "nbformat_minor": 0
}