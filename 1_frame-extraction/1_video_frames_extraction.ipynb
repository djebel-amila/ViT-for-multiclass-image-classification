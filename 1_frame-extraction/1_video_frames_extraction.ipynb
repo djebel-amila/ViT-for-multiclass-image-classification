{
  "cells": [
    {
      "cell_type": "markdown",
      "metadata": {
        "id": "pdcMxVGEA9Cd"
      },
      "source": [
        "# EXTRACTING FRAMES FROM A VIDEO FILE\n",
        "---\n",
        "\n",
        "This notebook lets you extract the frames of a given video file at the desired framerate and save them with numbered filenames as `.jpg` files in a new directory, keeping their native resolution."
      ]
    },
    {
      "cell_type": "markdown",
      "source": [
        "First, let’s import the required librairies (openCV, numpy, os, math, datetime…)\n",
        "> *(If you’re executing this notebook locally, you should install those with pip)*"
      ],
      "metadata": {
        "id": "Q6g0pG3Hmzvn"
      }
    },
    {
      "cell_type": "code",
      "execution_count": 1,
      "metadata": {
        "id": "5WMEawzyCEyG"
      },
      "outputs": [],
      "source": [
        "import cv2\n",
        "import numpy as np\n",
        "import os\n",
        "import math\n",
        "#from datetime import timedelta\n",
        "import datetime"
      ]
    },
    {
      "cell_type": "markdown",
      "metadata": {
        "id": "NlArTG8KChJf"
      },
      "source": [
        "Then, specify the path to the video file you’d like to extract the frames from.  "
      ]
    },
    {
      "cell_type": "code",
      "source": [
        "# enter file path to video (remote or local)\n",
        "print(\"> Enter path to file\")\n",
        "video_file = str(input())\n",
        "#ie. \"http://commondatastorage.googleapis.com/gtv-videos-bucket/sample/ForBiggerBlazes.mp4\"\n",
        "\n",
        "# get the video frame rate\n",
        "cap = cv2.VideoCapture(video_file)\n",
        "fps = cap.get(cv2.CAP_PROP_FPS)\n",
        "frames = int(cap.get(cv2.CAP_PROP_FRAME_COUNT))\n",
        "# get the video duration (by dividing the total amount of frames by the video frame rate)\n",
        "clip_duration = str(datetime.timedelta(seconds=int(frames/fps)))\n",
        "\n",
        "if fps!=0:\n",
        "  print(\"> This video contains\", frames,\"frames, sampled at\", fps,\"fps, for a total length of\", clip_duration)\n",
        "else:\n",
        "  print(\"> No valid video found at this path\")"
      ],
      "metadata": {
        "id": "zbr6Dng1omNT",
        "outputId": "8a5a0db0-3b44-491d-fd0a-01e8c2f17ec8",
        "colab": {
          "base_uri": "https://localhost:8080/"
        }
      },
      "execution_count": 2,
      "outputs": [
        {
          "output_type": "stream",
          "name": "stdout",
          "text": [
            "> Enter path to file\n",
            "http://commondatastorage.googleapis.com/gtv-videos-bucket/sample/ForBiggerBlazes.mp4\n",
            "> This video contains 360 frames, sampled at 23.976023976023978 fps, for a total length of 0:00:15\n"
          ]
        }
      ]
    },
    {
      "cell_type": "code",
      "execution_count": 9,
      "metadata": {
        "id": "L1532RVbJgQV",
        "colab": {
          "base_uri": "https://localhost:8080/"
        },
        "outputId": "bf688f15-f959-401e-a7f2-b203a8dd702d"
      },
      "outputs": [
        {
          "output_type": "stream",
          "name": "stdout",
          "text": [
            "> Enter the frame rate at which you'd like to extract\n",
            "12\n",
            "> At 12.0 FPS, 180 frames will be extracted in total.\n"
          ]
        }
      ],
      "source": [
        "print(\"> Enter the frame rate at which you'd like to extract\")\n",
        "SAVING_FRAMES_PER_SECOND = float(input())\n",
        "if SAVING_FRAMES_PER_SECOND<=fps:\n",
        "  saving_frames_per_second = SAVING_FRAMES_PER_SECOND\n",
        "  print(\"> At\", SAVING_FRAMES_PER_SECOND, \"FPS,\", int(SAVING_FRAMES_PER_SECOND * (frames/fps)), \"frames will be extracted in total.\")\n",
        "else:\n",
        "  saving_frames_per_second = min(fps, SAVING_FRAMES_PER_SECOND)\n",
        "  print(\"> /!\\ The frame rate cannot be higher than the video's current rate. FPS set at\", saving_frames_per_second)\n",
        "# ie. 10"
      ]
    },
    {
      "cell_type": "markdown",
      "source": [
        "test"
      ],
      "metadata": {
        "id": "h1g9I_LiVP7c"
      }
    },
    {
      "cell_type": "code",
      "execution_count": 10,
      "metadata": {
        "id": "DF6iR_0BAdmK"
      },
      "outputs": [],
      "source": [
        "def get_saving_frames_durations(cap, saving_fps):\n",
        "    \"\"\"A function that returns the list of durations where to save the frames\"\"\"\n",
        "    s = []\n",
        "    # get the clip duration by dividing number of frames by the number of frames per second\n",
        "    clip_duration = cap.get(cv2.CAP_PROP_FRAME_COUNT) / cap.get(cv2.CAP_PROP_FPS)\n",
        "    # use np.arange() to make floating-point steps\n",
        "    print(\"current frames in video:\", math.floor(cap.get(cv2.CAP_PROP_FRAME_COUNT)))\n",
        "    print(\"duration of the video in seconds:\", clip_duration)\n",
        "    print(\"extracting frames:\", saving_fps, \"FPS\")\n",
        "    frame_count_prediction = saving_fps * clip_duration\n",
        "    print(\"total frames expected:\", math.floor(frame_count_prediction-1))\n",
        "    for i in np.arange(0, clip_duration, 1 / saving_fps):\n",
        "        s.append(i)\n",
        "    return s"
      ]
    },
    {
      "cell_type": "markdown",
      "source": [
        "test2"
      ],
      "metadata": {
        "id": "yTxNU2KYWdqS"
      }
    },
    {
      "cell_type": "code",
      "source": [
        "def main(video_file):\n",
        "    filename, _ = os.path.splitext(video_file)\n",
        "    filename += \"-frames\"\n",
        "    # if there isn’t already one, create a folder named after filename + \"-frames\"\n",
        "    if not os.path.isdir(filename):\n",
        "        os.mkdir(filename)\n",
        "    # read the video file\n",
        "    cap = cv2.VideoCapture(video_file)\n",
        "    # get the FPS of the video\n",
        "    fps = cap.get(cv2.CAP_PROP_FPS)\n",
        "    print(\"source video fps:\", fps, \"FPS\")\n",
        "    # if the SAVING_FRAMES_PER_SECOND is above video FPS, then set it to FPS (as maximum)\n",
        "    saving_frames_per_second = min(fps, SAVING_FRAMES_PER_SECOND)\n",
        "    # get the list of duration spots to save\n",
        "    saving_frames_durations = get_saving_frames_durations(cap, saving_frames_per_second)\n",
        "    # start the loop\n",
        "    count = 0\n",
        "    index = 0\n",
        "    while True:\n",
        "        is_read, frame = cap.read()\n",
        "        if not is_read:\n",
        "            # break out of the loop if there are no frames to read\n",
        "            break\n",
        "        # get the duration by dividing the frame count by the FPS\n",
        "        frame_duration = count / fps\n",
        "        try:\n",
        "            # get the earliest duration to save\n",
        "            closest_duration = saving_frames_durations[0]\n",
        "        except IndexError:\n",
        "            # the list is empty, all duration frames were saved\n",
        "            break\n",
        "\n",
        "        if frame_duration >= closest_duration:\n",
        "            # if closest duration is less than or equals the frame duration,\n",
        "            # then save the frame\n",
        "            #frame_duration_formatted = format_timedelta(timedelta(seconds=frame_duration))\n",
        "#            cv2.imwrite(os.path.join(filename, str(video_file) + \"-\" + str(index) + \".jpg\"), frame)\n",
        "            cv2.imwrite(os.path.join(filename, str(video_file.rstrip('.mp4')) + \"-\" + str(index) + \".jpg\"), frame)\n",
        "\n",
        "            index += 1\n",
        "\n",
        "            # drop the duration spot from the list, since this duration spot is already saved\n",
        "            try:\n",
        "                saving_frames_durations.pop(0)\n",
        "            except IndexError:\n",
        "                pass\n",
        "        # increment the frame count\n",
        "        count += 1"
      ],
      "metadata": {
        "id": "RZHOf8yZVg5k"
      },
      "execution_count": 12,
      "outputs": []
    },
    {
      "cell_type": "code",
      "source": [
        "if __name__ == \"__main__\":\n",
        "    main(video_file)"
      ],
      "metadata": {
        "id": "sR1nX5dpWgKx",
        "outputId": "96cecb4b-a089-42eb-db1d-5a539ab7eba3",
        "colab": {
          "base_uri": "https://localhost:8080/",
          "height": 322
        }
      },
      "execution_count": 13,
      "outputs": [
        {
          "output_type": "error",
          "ename": "FileNotFoundError",
          "evalue": "ignored",
          "traceback": [
            "\u001b[0;31m---------------------------------------------------------------------------\u001b[0m",
            "\u001b[0;31mFileNotFoundError\u001b[0m                         Traceback (most recent call last)",
            "\u001b[0;32m<ipython-input-13-a679384ccf59>\u001b[0m in \u001b[0;36m<cell line: 1>\u001b[0;34m()\u001b[0m\n\u001b[1;32m      1\u001b[0m \u001b[0;32mif\u001b[0m \u001b[0m__name__\u001b[0m \u001b[0;34m==\u001b[0m \u001b[0;34m\"__main__\"\u001b[0m\u001b[0;34m:\u001b[0m\u001b[0;34m\u001b[0m\u001b[0;34m\u001b[0m\u001b[0m\n\u001b[0;32m----> 2\u001b[0;31m     \u001b[0mmain\u001b[0m\u001b[0;34m(\u001b[0m\u001b[0mvideo_file\u001b[0m\u001b[0;34m)\u001b[0m\u001b[0;34m\u001b[0m\u001b[0;34m\u001b[0m\u001b[0m\n\u001b[0m",
            "\u001b[0;32m<ipython-input-12-b5cdb2568c5e>\u001b[0m in \u001b[0;36mmain\u001b[0;34m(video_file)\u001b[0m\n\u001b[1;32m      4\u001b[0m     \u001b[0;31m# if there isn’t already one, create a folder named after filename + \"-frames\"\u001b[0m\u001b[0;34m\u001b[0m\u001b[0;34m\u001b[0m\u001b[0m\n\u001b[1;32m      5\u001b[0m     \u001b[0;32mif\u001b[0m \u001b[0;32mnot\u001b[0m \u001b[0mos\u001b[0m\u001b[0;34m.\u001b[0m\u001b[0mpath\u001b[0m\u001b[0;34m.\u001b[0m\u001b[0misdir\u001b[0m\u001b[0;34m(\u001b[0m\u001b[0mfilename\u001b[0m\u001b[0;34m)\u001b[0m\u001b[0;34m:\u001b[0m\u001b[0;34m\u001b[0m\u001b[0;34m\u001b[0m\u001b[0m\n\u001b[0;32m----> 6\u001b[0;31m         \u001b[0mos\u001b[0m\u001b[0;34m.\u001b[0m\u001b[0mmkdir\u001b[0m\u001b[0;34m(\u001b[0m\u001b[0mfilename\u001b[0m\u001b[0;34m)\u001b[0m\u001b[0;34m\u001b[0m\u001b[0;34m\u001b[0m\u001b[0m\n\u001b[0m\u001b[1;32m      7\u001b[0m     \u001b[0;31m# read the video file\u001b[0m\u001b[0;34m\u001b[0m\u001b[0;34m\u001b[0m\u001b[0m\n\u001b[1;32m      8\u001b[0m     \u001b[0mcap\u001b[0m \u001b[0;34m=\u001b[0m \u001b[0mcv2\u001b[0m\u001b[0;34m.\u001b[0m\u001b[0mVideoCapture\u001b[0m\u001b[0;34m(\u001b[0m\u001b[0mvideo_file\u001b[0m\u001b[0;34m)\u001b[0m\u001b[0;34m\u001b[0m\u001b[0;34m\u001b[0m\u001b[0m\n",
            "\u001b[0;31mFileNotFoundError\u001b[0m: [Errno 2] No such file or directory: 'http://commondatastorage.googleapis.com/gtv-videos-bucket/sample/ForBiggerBlazes-frames'"
          ]
        }
      ]
    }
  ],
  "metadata": {
    "accelerator": "GPU",
    "colab": {
      "provenance": []
    },
    "kernelspec": {
      "display_name": "Python 3 (ipykernel)",
      "language": "python",
      "name": "python3"
    },
    "language_info": {
      "codemirror_mode": {
        "name": "ipython",
        "version": 3
      },
      "file_extension": ".py",
      "mimetype": "text/x-python",
      "name": "python",
      "nbconvert_exporter": "python",
      "pygments_lexer": "ipython3",
      "version": "3.10.8"
    }
  },
  "nbformat": 4,
  "nbformat_minor": 0
}