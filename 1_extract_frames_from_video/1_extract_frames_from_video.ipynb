{
 "cells": [
  {
   "cell_type": "markdown",
   "metadata": {},
   "source": [
    "# Extract frames from video\n",
    "\n",
    "This notebook allows to extract `.jpg` frames from any local or distant video file at a specified frame rate (must be below or equal to the video’s actual frame rate). The resulting  `.jpg` sequence is saved (with numbered frames) at the video’s native resolution in a new folder ( \"`$filename`-frames\") created at the script’s location. "
   ]
  },
  {
   "cell_type": "markdown",
   "metadata": {},
   "source": [
    "First, import the relevant librairies: `openCV` (cv2) for video/image processing, `numpy` for data processing, `os` for file/folder/directory management, and `math` for basic calculations. "
   ]
  },
  {
   "cell_type": "code",
   "execution_count": 6,
   "metadata": {},
   "outputs": [],
   "source": [
    "# import the relevant librairies\n",
    "import cv2\n",
    "import numpy as np\n",
    "import os\n",
    "import math"
   ]
  },
  {
   "cell_type": "markdown",
   "metadata": {},
   "source": [
    "You can then specify the framerate (10 fps by default) at which you’d like to extract. \n",
    "<br> It must be inferior or equal to the target video’s current framerate. "
   ]
  },
  {
   "cell_type": "code",
   "execution_count": 7,
   "metadata": {},
   "outputs": [],
   "source": [
    "SAVING_FRAMES_PER_SECOND = 1.0"
   ]
  },
  {
   "cell_type": "markdown",
   "metadata": {},
   "source": [
    "The next function will calculate the timecodes at which to extract frames and store them in a new `s[]` list. It also prints the video’s duration, current total frames, and total amount of extracted frames to expect. Note that it will be called as part of the main function (next cell), which itself is only called in the notebook’s last cell. "
   ]
  },
  {
   "cell_type": "code",
   "execution_count": 8,
   "metadata": {},
   "outputs": [],
   "source": [
    "def get_saving_frames_durations(cap, saving_fps):\n",
    "    \"\"\"A function that returns the list of durations where to save the frames\"\"\"\n",
    "    s = []\n",
    "    # get the clip duration by dividing number of frames by the number of frames per second\n",
    "    clip_duration = cap.get(cv2.CAP_PROP_FRAME_COUNT) / cap.get(cv2.CAP_PROP_FPS)\n",
    "    # use np.arange() to make floating-point steps\n",
    "    print(\"current frames in video:\", math.floor(cap.get(cv2.CAP_PROP_FRAME_COUNT)))\n",
    "    print(\"duration of the video in seconds:\", clip_duration)\n",
    "    print(\"extracting frames:\", saving_fps, \"FPS\")\n",
    "    frame_count_prediction = saving_fps * clip_duration\n",
    "    print(\"total frames expected:\", math.floor(frame_count_prediction-1))\n",
    "    for i in np.arange(0, clip_duration, 1 / saving_fps):\n",
    "        s.append(i)\n",
    "    return s"
   ]
  },
  {
   "cell_type": "markdown",
   "metadata": {},
   "source": [
    "The main function below will: <br>\n",
    "+ Retrieve the video file’s name from the url or path<br>\n",
    "+ Create a new directory named after the filename +`-frames`<br>\n",
    "+ Check that the `SAVING_FRAMES_PER_SECOND` specified earlier is not higher than the video’s current frame rate. If it is, it will use the current frame rate as a fallback<br>\n",
    "+ It will then retrieve the pixel values at the timecode calculated by the `get_saving_frames_durations()` function and stored in the `s[]` list, and save those as a new `.jpg` file named after the video’s file name + an index<br>\n",
    "\n",
    "Note that this `main` function is actually called in the next cell. "
   ]
  },
  {
   "cell_type": "code",
   "execution_count": 9,
   "metadata": {},
   "outputs": [],
   "source": [
    "def main(video_file):\n",
    "    filename, _ = os.path.splitext(video_file)\n",
    "    #filename += \"-frames\"\n",
    "    newdir = filename + \"-frames\"\n",
    "    folder = newdir.split(\"/\")\n",
    "    # if there isn’t already one, create a folder named after filename + \"-frames\"\n",
    "    if not os.path.isdir(folder[len(folder)-1]):\n",
    "        os.mkdir(folder[len(folder)-1])\n",
    "    # read the video file\n",
    "    cap = cv2.VideoCapture(video_file)\n",
    "    # get the FPS of the video\n",
    "    fps = cap.get(cv2.CAP_PROP_FPS)\n",
    "    print(\"source video fps:\", fps, \"FPS\")\n",
    "    # if the SAVING_FRAMES_PER_SECOND is above video FPS, then set it to FPS (as maximum)\n",
    "    saving_frames_per_second = min(fps, SAVING_FRAMES_PER_SECOND)\n",
    "    # get the list of duration spots to save\n",
    "    saving_frames_durations = get_saving_frames_durations(cap, saving_frames_per_second)\n",
    "    # start the loop\n",
    "    count = 0\n",
    "    index = 0\n",
    "    while True:\n",
    "        is_read, frame = cap.read()\n",
    "        if not is_read:\n",
    "            # break out of the loop if there are no frames to read\n",
    "            break\n",
    "        # get the duration by dividing the frame count by the FPS\n",
    "        frame_duration = count / fps\n",
    "        try:\n",
    "            # get the earliest duration to save\n",
    "            closest_duration = saving_frames_durations[0]\n",
    "        except IndexError:\n",
    "            # the list is empty, all duration frames were saved\n",
    "            break\n",
    "        \t\n",
    "        if frame_duration >= closest_duration:\n",
    "            # if closest duration is less than or equals the frame duration, \n",
    "            # then save the frame\n",
    "            #frame_duration_formatted = format_timedelta(timedelta(seconds=frame_duration))\n",
    "#            cv2.imwrite(os.path.join(filename, str(video_file) + \"-\" + str(index) + \".jpg\"), frame)\n",
    "            videoname = filename.split(\"/\")\n",
    "            videoname = videoname[len(videoname)-1]\n",
    "            newfile = os.path.join(folder[len(folder)-1], videoname + \"-\" + str(index) + \".jpg\")\n",
    "            cv2.imwrite(newfile, frame) \n",
    "            index += 1\n",
    "\n",
    "            # drop the duration spot from the list, since this duration spot is already saved\n",
    "            try:\n",
    "                saving_frames_durations.pop(0)\n",
    "            except IndexError:\n",
    "                pass\n",
    "        # increment the frame count\n",
    "        count += 1"
   ]
  },
  {
   "cell_type": "markdown",
   "metadata": {},
   "source": [
    "Finally, the main function is called below, prompting users to specify a url or local path where the video file is to be found. It prints a brief report that entails the source video’s current frame rate, the total amout of frames it has, the duration of the video, the frame rate at which frames are extracted, and the total amount of saved `.jpg` frames that are saved. "
   ]
  },
  {
   "cell_type": "code",
   "execution_count": 10,
   "metadata": {},
   "outputs": [
    {
     "name": "stdout",
     "output_type": "stream",
     "text": [
      "enter path to video:\n",
      "http://commondatastorage.googleapis.com/gtv-videos-bucket/sample/ForBiggerBlazes.mp4\n",
      "source video fps: 23.976023976023978 FPS\n",
      "current frames in video: 360\n",
      "duration of the video in seconds: 15.014999999999999\n",
      "extracting frames: 1.0 FPS\n",
      "total frames expected: 14\n"
     ]
    }
   ],
   "source": [
    "if __name__ == \"__main__\":\n",
    "    print(\"enter path to video:\")\n",
    "    video_file = str(input())\n",
    "    #ie. \"http://commondatastorage.googleapis.com/gtv-videos-bucket/sample/ForBiggerBlazes.mp4\"\n",
    "    main(video_file)"
   ]
  }
 ],
 "metadata": {
  "kernelspec": {
   "display_name": "Python 3",
   "language": "python",
   "name": "python3"
  },
  "language_info": {
   "codemirror_mode": {
    "name": "ipython",
    "version": 3
   },
   "file_extension": ".py",
   "mimetype": "text/x-python",
   "name": "python",
   "nbconvert_exporter": "python",
   "pygments_lexer": "ipython3",
   "version": "3.8.3"
  }
 },
 "nbformat": 4,
 "nbformat_minor": 2
}
